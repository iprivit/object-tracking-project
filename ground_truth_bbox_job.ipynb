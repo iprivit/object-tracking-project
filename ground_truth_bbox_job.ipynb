{
 "cells": [
  {
   "cell_type": "code",
   "execution_count": 2,
   "metadata": {},
   "outputs": [],
   "source": [
    "import json \n",
    "import os\n",
    "import boto3\n",
    "import base64\n",
    "import sagemaker as sm\n",
    "import subprocess\n",
    "from glob import glob\n",
    "from tqdm import tqdm\n",
    "from PIL import Image\n",
    "import datetime\n",
    "import numpy as np\n",
    "\n",
    "sagemaker = boto3.client('sagemaker')\n",
    "bucket = 'privisaa-bucket-virginia'\n",
    "s3 = boto3.client('s3')\n",
    "rek = boto3.client('rekognition')\n",
    "\n",
    "WORKTEAM_ARN = 'arn:aws:sagemaker:us-east-1:209419068016:workteam/private-crowd/ijp-private-workteam'\n"
   ]
  },
  {
   "cell_type": "code",
   "execution_count": null,
   "metadata": {},
   "outputs": [],
   "source": []
  }
 ],
 "metadata": {
  "kernelspec": {
   "display_name": "conda_python3",
   "language": "python",
   "name": "conda_python3"
  },
  "language_info": {
   "codemirror_mode": {
    "name": "ipython",
    "version": 3
   },
   "file_extension": ".py",
   "mimetype": "text/x-python",
   "name": "python",
   "nbconvert_exporter": "python",
   "pygments_lexer": "ipython3",
   "version": "3.6.10"
  }
 },
 "nbformat": 4,
 "nbformat_minor": 4
}
