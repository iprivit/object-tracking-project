{
 "cells": [
  {
   "cell_type": "code",
   "execution_count": 5,
   "metadata": {},
   "outputs": [],
   "source": [
    "import collections\n",
    "import math\n",
    "import torch\n",
    "import os, tarfile, json\n",
    "import time, datetime\n",
    "from io import StringIO\n",
    "import numpy as np\n",
    "import sagemaker\n",
    "from sagemaker.pytorch import estimator, PyTorchModel, PyTorchPredictor, PyTorch\n",
    "from sagemaker.utils import name_from_base\n",
    "import boto3\n",
    "from types import SimpleNamespace\n",
    "\n",
    "sagemaker_session = sagemaker.Session()\n",
    "role = sagemaker.get_execution_role()\n",
    "bucket = 'privisaa-bucket-virginia'#sagemaker_session.default_bucket() # can replace with your own S3 bucket 'privisaa-bucket-virginia' # \n",
    "prefix = 'detectron2'\n",
    "runtime_client = boto3.client('runtime.sagemaker')"
   ]
  },
  {
   "cell_type": "code",
   "execution_count": 4,
   "metadata": {
    "scrolled": true
   },
   "outputs": [],
   "source": [
    "#!aws ecr get-login-password --region us-east-1 | docker login --username AWS --password-stdin 763104351884.dkr.ecr.us-east-1.amazonaws.com\n"
   ]
  },
  {
   "cell_type": "markdown",
   "metadata": {},
   "source": [
    "## Build our container "
   ]
  },
  {
   "cell_type": "code",
   "execution_count": 3,
   "metadata": {
    "scrolled": true
   },
   "outputs": [
    {
     "name": "stdout",
     "output_type": "stream",
     "text": [
      "Login Succeeded\n",
      "Sending build context to Docker daemon  60.43MB\n",
      "Step 1/21 : FROM nvidia/cuda:10.1-cudnn7-devel\n",
      " ---> b4879c167fc1\n",
      "Step 2/21 : ENV DEBIAN_FRONTEND noninteractive\n",
      " ---> Using cache\n",
      " ---> 85bc36c63811\n",
      "Step 3/21 : RUN apt-get update && apt-get install -y \tca-certificates python3-dev git wget nginx sudo  \tcmake ninja-build protobuf-compiler libprotobuf-dev &&   rm -rf /var/lib/apt/lists/*\n",
      " ---> Using cache\n",
      " ---> 10186fe31f54\n",
      "Step 4/21 : RUN ln -sv /usr/bin/python3 /usr/bin/python\n",
      " ---> Using cache\n",
      " ---> 13efb6c2b4ad\n",
      "Step 5/21 : ENV PATH=\"/opt/ml/.local/bin:${PATH}\"\n",
      " ---> Using cache\n",
      " ---> 1be291b0fe90\n",
      "Step 6/21 : RUN wget https://bootstrap.pypa.io/get-pip.py && \tpython3 get-pip.py && \trm get-pip.py\n",
      " ---> Using cache\n",
      " ---> d03d837384b9\n",
      "Step 7/21 : RUN pip install tensorboard cython boto3 numpy==1.15.4 gevent pandas flask pathlib gunicorn tqdm  requests six ipdb h5py html2text nltk progressbar onnxruntime sagemaker sagemaker_inference pycocotools git+https://github.com/NVIDIA/dllogger\n",
      " ---> Using cache\n",
      " ---> a1ea9f181342\n",
      "Step 8/21 : RUN pip install torch==1.5+cu101 torchvision==0.6+cu101 -f https://download.pytorch.org/whl/torch_stable.html\n",
      " ---> Using cache\n",
      " ---> 717d1505de85\n",
      "Step 9/21 : RUN pip install 'git+https://github.com/cocodataset/cocoapi.git#subdirectory=PythonAPI'\n",
      " ---> Using cache\n",
      " ---> 27e0383f98a8\n",
      "Step 10/21 : RUN pip install 'git+https://github.com/facebookresearch/fvcore'\n",
      " ---> Using cache\n",
      " ---> 4dde1fa8cca1\n",
      "Step 11/21 : ENV FORCE_CUDA=\"1\"\n",
      " ---> Using cache\n",
      " ---> c324e401516a\n",
      "Step 12/21 : ENV TORCH_CUDA_ARCH_LIST=\"Volta\"\n",
      " ---> Using cache\n",
      " ---> 912aa0559c00\n",
      "Step 13/21 : COPY detectron2 /opt/ml/detectron2\n",
      " ---> c4b392c585e1\n",
      "Step 14/21 : RUN pip install -e /opt/ml/detectron2\n",
      " ---> Running in 13e2a0a9b49d\n",
      "Obtaining file:///opt/ml/detectron2\n",
      "Requirement already satisfied: termcolor>=1.1 in /usr/local/lib/python3.6/dist-packages (from detectron2==0.1.3) (1.1.0)\n",
      "Requirement already satisfied: Pillow in /usr/local/lib/python3.6/dist-packages (from detectron2==0.1.3) (7.2.0)\n",
      "Requirement already satisfied: yacs>=0.1.6 in /usr/local/lib/python3.6/dist-packages (from detectron2==0.1.3) (0.1.7)\n",
      "Requirement already satisfied: tabulate in /usr/local/lib/python3.6/dist-packages (from detectron2==0.1.3) (0.8.7)\n",
      "Collecting cloudpickle\n",
      "  Downloading cloudpickle-1.5.0-py3-none-any.whl (22 kB)\n",
      "Requirement already satisfied: matplotlib in /usr/local/lib/python3.6/dist-packages (from detectron2==0.1.3) (3.3.0)\n",
      "Collecting mock\n",
      "  Downloading mock-4.0.2-py3-none-any.whl (28 kB)\n",
      "Requirement already satisfied: tqdm>4.29.0 in /usr/local/lib/python3.6/dist-packages (from detectron2==0.1.3) (4.48.2)\n",
      "Requirement already satisfied: tensorboard in /usr/local/lib/python3.6/dist-packages (from detectron2==0.1.3) (2.3.0)\n",
      "Requirement already satisfied: fvcore>=0.1.1 in /usr/local/lib/python3.6/dist-packages (from detectron2==0.1.3) (0.1.1)\n",
      "Requirement already satisfied: future in /usr/local/lib/python3.6/dist-packages (from detectron2==0.1.3) (0.18.2)\n",
      "Collecting pydot\n",
      "  Downloading pydot-1.4.1-py2.py3-none-any.whl (19 kB)\n",
      "Requirement already satisfied: PyYAML in /usr/local/lib/python3.6/dist-packages (from yacs>=0.1.6->detectron2==0.1.3) (5.3.1)\n",
      "Requirement already satisfied: kiwisolver>=1.0.1 in /usr/local/lib/python3.6/dist-packages (from matplotlib->detectron2==0.1.3) (1.2.0)\n",
      "Requirement already satisfied: python-dateutil>=2.1 in /usr/local/lib/python3.6/dist-packages (from matplotlib->detectron2==0.1.3) (2.8.1)\n",
      "Requirement already satisfied: numpy>=1.15 in /usr/local/lib/python3.6/dist-packages (from matplotlib->detectron2==0.1.3) (1.15.4)\n",
      "Requirement already satisfied: cycler>=0.10 in /usr/local/lib/python3.6/dist-packages (from matplotlib->detectron2==0.1.3) (0.10.0)\n",
      "Requirement already satisfied: pyparsing!=2.0.4,!=2.1.2,!=2.1.6,>=2.0.3 in /usr/local/lib/python3.6/dist-packages (from matplotlib->detectron2==0.1.3) (2.4.7)\n",
      "Requirement already satisfied: six>=1.10.0 in /usr/local/lib/python3.6/dist-packages (from tensorboard->detectron2==0.1.3) (1.15.0)\n",
      "Requirement already satisfied: google-auth<2,>=1.6.3 in /usr/local/lib/python3.6/dist-packages (from tensorboard->detectron2==0.1.3) (1.20.0)\n",
      "Requirement already satisfied: absl-py>=0.4 in /usr/local/lib/python3.6/dist-packages (from tensorboard->detectron2==0.1.3) (0.9.0)\n",
      "Requirement already satisfied: grpcio>=1.24.3 in /usr/local/lib/python3.6/dist-packages (from tensorboard->detectron2==0.1.3) (1.31.0)\n",
      "Requirement already satisfied: wheel>=0.26; python_version >= \"3\" in /usr/local/lib/python3.6/dist-packages (from tensorboard->detectron2==0.1.3) (0.34.2)\n",
      "Requirement already satisfied: requests<3,>=2.21.0 in /usr/local/lib/python3.6/dist-packages (from tensorboard->detectron2==0.1.3) (2.24.0)\n",
      "Requirement already satisfied: markdown>=2.6.8 in /usr/local/lib/python3.6/dist-packages (from tensorboard->detectron2==0.1.3) (3.2.2)\n",
      "Requirement already satisfied: setuptools>=41.0.0 in /usr/local/lib/python3.6/dist-packages (from tensorboard->detectron2==0.1.3) (49.2.1)\n",
      "Requirement already satisfied: werkzeug>=0.11.15 in /usr/local/lib/python3.6/dist-packages (from tensorboard->detectron2==0.1.3) (1.0.1)\n",
      "Requirement already satisfied: google-auth-oauthlib<0.5,>=0.4.1 in /usr/local/lib/python3.6/dist-packages (from tensorboard->detectron2==0.1.3) (0.4.1)\n",
      "Requirement already satisfied: tensorboard-plugin-wit>=1.6.0 in /usr/local/lib/python3.6/dist-packages (from tensorboard->detectron2==0.1.3) (1.7.0)\n",
      "Requirement already satisfied: protobuf>=3.6.0 in /usr/local/lib/python3.6/dist-packages (from tensorboard->detectron2==0.1.3) (3.12.4)\n",
      "Requirement already satisfied: portalocker in /usr/local/lib/python3.6/dist-packages (from fvcore>=0.1.1->detectron2==0.1.3) (2.0.0)\n",
      "Requirement already satisfied: rsa<5,>=3.1.4; python_version >= \"3.5\" in /usr/local/lib/python3.6/dist-packages (from google-auth<2,>=1.6.3->tensorboard->detectron2==0.1.3) (4.6)\n",
      "Requirement already satisfied: cachetools<5.0,>=2.0.0 in /usr/local/lib/python3.6/dist-packages (from google-auth<2,>=1.6.3->tensorboard->detectron2==0.1.3) (4.1.1)\n",
      "Requirement already satisfied: pyasn1-modules>=0.2.1 in /usr/local/lib/python3.6/dist-packages (from google-auth<2,>=1.6.3->tensorboard->detectron2==0.1.3) (0.2.8)\n",
      "Requirement already satisfied: chardet<4,>=3.0.2 in /usr/local/lib/python3.6/dist-packages (from requests<3,>=2.21.0->tensorboard->detectron2==0.1.3) (3.0.4)\n",
      "Requirement already satisfied: certifi>=2017.4.17 in /usr/local/lib/python3.6/dist-packages (from requests<3,>=2.21.0->tensorboard->detectron2==0.1.3) (2020.6.20)\n",
      "Requirement already satisfied: idna<3,>=2.5 in /usr/local/lib/python3.6/dist-packages (from requests<3,>=2.21.0->tensorboard->detectron2==0.1.3) (2.10)\n",
      "Requirement already satisfied: urllib3!=1.25.0,!=1.25.1,<1.26,>=1.21.1 in /usr/local/lib/python3.6/dist-packages (from requests<3,>=2.21.0->tensorboard->detectron2==0.1.3) (1.25.10)\n",
      "Requirement already satisfied: importlib-metadata; python_version < \"3.8\" in /usr/local/lib/python3.6/dist-packages (from markdown>=2.6.8->tensorboard->detectron2==0.1.3) (1.7.0)\n",
      "Requirement already satisfied: requests-oauthlib>=0.7.0 in /usr/local/lib/python3.6/dist-packages (from google-auth-oauthlib<0.5,>=0.4.1->tensorboard->detectron2==0.1.3) (1.3.0)\n",
      "Requirement already satisfied: pyasn1>=0.1.3 in /usr/local/lib/python3.6/dist-packages (from rsa<5,>=3.1.4; python_version >= \"3.5\"->google-auth<2,>=1.6.3->tensorboard->detectron2==0.1.3) (0.4.8)\n",
      "Requirement already satisfied: zipp>=0.5 in /usr/local/lib/python3.6/dist-packages (from importlib-metadata; python_version < \"3.8\"->markdown>=2.6.8->tensorboard->detectron2==0.1.3) (3.1.0)\n",
      "Requirement already satisfied: oauthlib>=3.0.0 in /usr/local/lib/python3.6/dist-packages (from requests-oauthlib>=0.7.0->google-auth-oauthlib<0.5,>=0.4.1->tensorboard->detectron2==0.1.3) (3.1.0)\n",
      "Installing collected packages: cloudpickle, mock, pydot, detectron2\n",
      "  Running setup.py develop for detectron2\n",
      "Successfully installed cloudpickle-1.5.0 detectron2 mock-4.0.2 pydot-1.4.1\n",
      "Removing intermediate container 13e2a0a9b49d\n",
      " ---> 879a5ee225f7\n",
      "Step 15/21 : WORKDIR /opt/ml\n",
      " ---> Running in 7d286164b4f7\n",
      "Removing intermediate container 7d286164b4f7\n",
      " ---> 320c6970aedf\n",
      "Step 16/21 : COPY detectron2/configs/quick_schedules/mask_rcnn_R_50_FPN_inference_acc_test.yaml /opt/ml/mask_rcnn_R_50_FPN_inference_acc_test.yaml\n",
      " ---> 9449cd6c1e58\n",
      "Step 17/21 : COPY detectron2/configs/COCO-InstanceSegmentation/mask_rcnn_R_50_FPN_3x.yaml /opt/ml/mask_rcnn_R_50_FPN_3x.yaml\n",
      " ---> 99f56f0f5f75\n",
      "Step 18/21 : COPY detectron2/configs/Base-RCNN-FPN.yaml /opt/ml/Base-RCNN-FPN.yaml\n",
      " ---> f6befae0c075\n",
      "Step 19/21 : COPY train /opt/ml/.local/train\n",
      " ---> 92e786224edd\n",
      "Step 20/21 : ENV FVCORE_CACHE=\"/tmp\"\n",
      " ---> Running in 67678fb19da7\n",
      "Removing intermediate container 67678fb19da7\n",
      " ---> 093a61917da6\n",
      "Step 21/21 : ENV PATH=\"/opt/ml/.local:${PATH}\"\n",
      " ---> Running in 26433c365c99\n",
      "Removing intermediate container 26433c365c99\n",
      " ---> d2d92e753ff1\n",
      "Successfully built d2d92e753ff1\n",
      "Successfully tagged detectron2-train:latest\n",
      "The push refers to repository [209419068016.dkr.ecr.us-east-1.amazonaws.com/detectron2-train]\n",
      "dc7d0a30762d: Preparing\n",
      "6245d899147c: Preparing\n",
      "7a3da0668b0d: Preparing\n",
      "94fcabc38152: Preparing\n",
      "b035e3995605: Preparing\n",
      "da7d4ac286bc: Preparing\n",
      "631359f251f4: Preparing\n",
      "db5a853e7089: Preparing\n",
      "2a4ca93091e9: Preparing\n",
      "d44c581899b7: Preparing\n",
      "147b85689efa: Preparing\n",
      "e5a57456f9fb: Preparing\n",
      "9d06a69c6390: Preparing\n",
      "1db09913a256: Preparing\n",
      "2e282f599fd6: Preparing\n",
      "e6f174f76be4: Preparing\n",
      "da7d4ac286bc: Waiting\n",
      "808fd332a58a: Preparing\n",
      "b16af11cbf29: Preparing\n",
      "37b9a4b22186: Preparing\n",
      "db5a853e7089: Waiting\n",
      "631359f251f4: Waiting\n",
      "e0b3afb09dc3: Preparing\n",
      "6c01b5a53aac: Preparing\n",
      "2c6ac8e5063e: Preparing\n",
      "2a4ca93091e9: Waiting\n",
      "cc967c529ced: Preparing\n",
      "d44c581899b7: Waiting\n",
      "e5a57456f9fb: Waiting\n",
      "147b85689efa: Waiting\n",
      "9d06a69c6390: Waiting\n",
      "1db09913a256: Waiting\n",
      "2e282f599fd6: Waiting\n",
      "2c6ac8e5063e: Waiting\n",
      "e0b3afb09dc3: Waiting\n",
      "cc967c529ced: Waiting\n",
      "b16af11cbf29: Waiting\n",
      "e6f174f76be4: Waiting\n",
      "808fd332a58a: Waiting\n",
      "dc7d0a30762d: Pushed\n",
      "7a3da0668b0d: Pushed\n",
      "631359f251f4: Layer already exists\n",
      "6245d899147c: Pushed\n",
      "db5a853e7089: Layer already exists\n",
      "2a4ca93091e9: Layer already exists\n",
      "d44c581899b7: Layer already exists\n",
      "94fcabc38152: Pushed\n",
      "147b85689efa: Layer already exists\n",
      "e5a57456f9fb: Layer already exists\n",
      "9d06a69c6390: Layer already exists\n",
      "1db09913a256: Layer already exists\n",
      "2e282f599fd6: Layer already exists\n",
      "e6f174f76be4: Layer already exists\n",
      "808fd332a58a: Layer already exists\n",
      "b16af11cbf29: Layer already exists\n",
      "37b9a4b22186: Layer already exists\n",
      "e0b3afb09dc3: Layer already exists\n",
      "6c01b5a53aac: Layer already exists\n",
      "2c6ac8e5063e: Layer already exists\n",
      "cc967c529ced: Layer already exists\n",
      "da7d4ac286bc: Pushed\n",
      "b035e3995605: Pushed\n",
      "latest: digest: sha256:18882cd406002c09dda422c459f93d51dd314c19c606b939d167a14d302cd60d size: 5150\n"
     ]
    },
    {
     "name": "stderr",
     "output_type": "stream",
     "text": [
      "WARNING! Using --password via the CLI is insecure. Use --password-stdin.\n",
      "WARNING! Your password will be stored unencrypted in /home/ec2-user/.docker/config.json.\n",
      "Configure a credential helper to remove this warning. See\n",
      "https://docs.docker.com/engine/reference/commandline/login/#credentials-store\n",
      "\n"
     ]
    }
   ],
   "source": [
    "%%sh\n",
    "\n",
    "# The name of our algorithm\n",
    "algorithm_name=detectron2-train\n",
    "\n",
    "chmod +x train\n",
    "chmod +x serve\n",
    "\n",
    "account=$(aws sts get-caller-identity --query Account --output text)\n",
    "\n",
    "# Get the region defined in the current configuration (default to us-west-2 if none defined)\n",
    "region=$(aws configure get region)\n",
    "region=${region:-us-east-1}\n",
    "\n",
    "fullname=\"${account}.dkr.ecr.${region}.amazonaws.com/${algorithm_name}:latest\"\n",
    "\n",
    "# If the repository doesn't exist in ECR, create it.\n",
    "\n",
    "aws ecr describe-repositories --repository-names \"${algorithm_name}\" > /dev/null 2>&1\n",
    "\n",
    "if [ $? -ne 0 ]\n",
    "then\n",
    "    aws ecr create-repository --repository-name \"${algorithm_name}\" > /dev/null\n",
    "fi\n",
    "\n",
    "# Get the login command from ECR and execute it directly\n",
    "$(aws ecr get-login --region ${region} --no-include-email)\n",
    "\n",
    "# Build the docker image locally with the image name and then push it to ECR\n",
    "# with the full name.\n",
    "\n",
    "docker build  -t ${algorithm_name} .\n",
    "docker tag ${algorithm_name} ${fullname}\n",
    "\n",
    "# some kind of security auth issue with pushing this to ecr, not authorized to perform ecr:InitiateLayerUpload\n",
    "docker push ${fullname}"
   ]
  },
  {
   "cell_type": "markdown",
   "metadata": {},
   "source": [
    "## Prep our input data"
   ]
  },
  {
   "cell_type": "code",
   "execution_count": 6,
   "metadata": {},
   "outputs": [
    {
     "name": "stderr",
     "output_type": "stream",
     "text": [
      "'s3_input' class will be renamed to 'TrainingInput' in SageMaker Python SDK v2.\n"
     ]
    }
   ],
   "source": [
    "prefix = \"mask-rcnn/sagemaker\" #prefix in your S3 bucket\n",
    "\n",
    "s3train = f's3://{bucket}/nfl-data/helmet_imgs'\n",
    "\n",
    "train = sagemaker.session.s3_input(s3train, distribution='FullyReplicated', \n",
    "                        content_type=None, s3_data_type='S3Prefix') \n",
    "# 'application/tfrecord'\n",
    "\n",
    "data_channels = {'train': train}"
   ]
  },
  {
   "cell_type": "markdown",
   "metadata": {},
   "source": [
    "## Setup our estimator"
   ]
  },
  {
   "cell_type": "code",
   "execution_count": 7,
   "metadata": {},
   "outputs": [
    {
     "name": "stderr",
     "output_type": "stream",
     "text": [
      "Parameter image_name will be renamed to image_uri in SageMaker Python SDK v2.\n"
     ]
    }
   ],
   "source": [
    "# set our hyperparameters\n",
    "hyperparameters = {\n",
    "                  'num_gpus':8,\n",
    "                  'config_file':'/opt/ml/detectron2/configs/quick_schedules/helmet_mask_rcnn_R_50_FPN_training_acc_test.yaml'\n",
    "}\n",
    "\n",
    "# instantiate model\n",
    "torch_model = PyTorch( role=role,\n",
    "                      train_instance_count=1,\n",
    "                      train_instance_type= 'ml.p3dn.24xlarge', # try local\n",
    "                      entry_point='/home/ec2-user/SageMaker/code/object-tracking-project/detectron2_train/detectron2/tools/plain_train_net.py',\n",
    "                      image_name='209419068016.dkr.ecr.us-east-1.amazonaws.com/detectron2-train',\n",
    "                      framework_version='1.5.1',\n",
    "                      hyperparameters=hyperparameters\n",
    "                     )\n"
   ]
  },
  {
   "cell_type": "markdown",
   "metadata": {},
   "source": [
    "## Train our model!"
   ]
  },
  {
   "cell_type": "code",
   "execution_count": null,
   "metadata": {
    "scrolled": true
   },
   "outputs": [],
   "source": [
    "torch_model.fit(inputs=data_channels)\n"
   ]
  },
  {
   "cell_type": "code",
   "execution_count": 6,
   "metadata": {},
   "outputs": [],
   "source": [
    "import boto3\n",
    "kvs = boto3.client('kinesisvideo')\n",
    "\n",
    "response = kvs.get_data_endpoint(\n",
    "  StreamName='test-video-stream',\n",
    "  #StreamARN='arn:aws:kinesisvideo:us-east-1:209419068016:stream/test-video-stream/1586209281595',\n",
    "  APIName='GET_MEDIA'\n",
    ")\n",
    "\n",
    "# 'PUT_MEDIA'|'LIST_FRAGMENTS'|'GET_MEDIA_FOR_FRAGMENT_LIST'|'GET_HLS_STREAMING_SESSION_URL'|'GET_DASH_STREAMING_SESSION_URL'|'GET_CLIP'\n",
    "\n",
    "response"
   ]
  }
 ],
 "metadata": {
  "kernelspec": {
   "display_name": "conda_pytorch_p36",
   "language": "python",
   "name": "conda_pytorch_p36"
  },
  "language_info": {
   "codemirror_mode": {
    "name": "ipython",
    "version": 3
   },
   "file_extension": ".py",
   "mimetype": "text/x-python",
   "name": "python",
   "nbconvert_exporter": "python",
   "pygments_lexer": "ipython3",
   "version": "3.6.10"
  }
 },
 "nbformat": 4,
 "nbformat_minor": 4
}
